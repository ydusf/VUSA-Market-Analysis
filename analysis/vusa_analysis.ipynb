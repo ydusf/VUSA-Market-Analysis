{
 "cells": [
  {
   "cell_type": "code",
   "execution_count": 725,
   "metadata": {},
   "outputs": [],
   "source": [
    "import numpy as np, pandas as pd, matplotlib.pyplot as plt\n",
    "\n",
    "from pandas import Series, DataFrame"
   ]
  },
  {
   "cell_type": "code",
   "execution_count": 726,
   "metadata": {},
   "outputs": [],
   "source": [
    "vusa_history = pd.read_csv(\"../data/vusa_data.csv\")"
   ]
  },
  {
   "cell_type": "code",
   "execution_count": 727,
   "metadata": {},
   "outputs": [
    {
     "data": {
      "text/html": [
       "<div>\n",
       "<style scoped>\n",
       "    .dataframe tbody tr th:only-of-type {\n",
       "        vertical-align: middle;\n",
       "    }\n",
       "\n",
       "    .dataframe tbody tr th {\n",
       "        vertical-align: top;\n",
       "    }\n",
       "\n",
       "    .dataframe thead th {\n",
       "        text-align: right;\n",
       "    }\n",
       "</style>\n",
       "<table border=\"1\" class=\"dataframe\">\n",
       "  <thead>\n",
       "    <tr style=\"text-align: right;\">\n",
       "      <th></th>\n",
       "      <th>Open</th>\n",
       "      <th>High</th>\n",
       "      <th>Low</th>\n",
       "      <th>Close</th>\n",
       "      <th>Adj Close</th>\n",
       "      <th>Volume</th>\n",
       "    </tr>\n",
       "  </thead>\n",
       "  <tbody>\n",
       "    <tr>\n",
       "      <th>count</th>\n",
       "      <td>580.000000</td>\n",
       "      <td>580.000000</td>\n",
       "      <td>580.000000</td>\n",
       "      <td>580.000000</td>\n",
       "      <td>580.000000</td>\n",
       "      <td>5.800000e+02</td>\n",
       "    </tr>\n",
       "    <tr>\n",
       "      <th>mean</th>\n",
       "      <td>38.407195</td>\n",
       "      <td>39.050965</td>\n",
       "      <td>37.825653</td>\n",
       "      <td>38.463700</td>\n",
       "      <td>38.463700</td>\n",
       "      <td>1.192877e+06</td>\n",
       "    </tr>\n",
       "    <tr>\n",
       "      <th>std</th>\n",
       "      <td>15.384204</td>\n",
       "      <td>15.725028</td>\n",
       "      <td>15.090820</td>\n",
       "      <td>15.385247</td>\n",
       "      <td>15.385247</td>\n",
       "      <td>8.238180e+05</td>\n",
       "    </tr>\n",
       "    <tr>\n",
       "      <th>min</th>\n",
       "      <td>15.772000</td>\n",
       "      <td>16.110001</td>\n",
       "      <td>15.770000</td>\n",
       "      <td>15.920000</td>\n",
       "      <td>15.920000</td>\n",
       "      <td>2.726000e+03</td>\n",
       "    </tr>\n",
       "    <tr>\n",
       "      <th>25%</th>\n",
       "      <td>25.134999</td>\n",
       "      <td>25.527499</td>\n",
       "      <td>24.682501</td>\n",
       "      <td>25.175000</td>\n",
       "      <td>25.175000</td>\n",
       "      <td>7.315558e+05</td>\n",
       "    </tr>\n",
       "    <tr>\n",
       "      <th>50%</th>\n",
       "      <td>36.885001</td>\n",
       "      <td>37.320002</td>\n",
       "      <td>36.385000</td>\n",
       "      <td>37.055000</td>\n",
       "      <td>37.055000</td>\n",
       "      <td>1.041942e+06</td>\n",
       "    </tr>\n",
       "    <tr>\n",
       "      <th>75%</th>\n",
       "      <td>49.450001</td>\n",
       "      <td>50.491877</td>\n",
       "      <td>48.653124</td>\n",
       "      <td>49.210625</td>\n",
       "      <td>49.210625</td>\n",
       "      <td>1.465209e+06</td>\n",
       "    </tr>\n",
       "    <tr>\n",
       "      <th>max</th>\n",
       "      <td>67.794998</td>\n",
       "      <td>74.550003</td>\n",
       "      <td>66.915001</td>\n",
       "      <td>67.959999</td>\n",
       "      <td>67.959999</td>\n",
       "      <td>7.631748e+06</td>\n",
       "    </tr>\n",
       "  </tbody>\n",
       "</table>\n",
       "</div>"
      ],
      "text/plain": [
       "             Open        High         Low       Close   Adj Close  \\\n",
       "count  580.000000  580.000000  580.000000  580.000000  580.000000   \n",
       "mean    38.407195   39.050965   37.825653   38.463700   38.463700   \n",
       "std     15.384204   15.725028   15.090820   15.385247   15.385247   \n",
       "min     15.772000   16.110001   15.770000   15.920000   15.920000   \n",
       "25%     25.134999   25.527499   24.682501   25.175000   25.175000   \n",
       "50%     36.885001   37.320002   36.385000   37.055000   37.055000   \n",
       "75%     49.450001   50.491877   48.653124   49.210625   49.210625   \n",
       "max     67.794998   74.550003   66.915001   67.959999   67.959999   \n",
       "\n",
       "             Volume  \n",
       "count  5.800000e+02  \n",
       "mean   1.192877e+06  \n",
       "std    8.238180e+05  \n",
       "min    2.726000e+03  \n",
       "25%    7.315558e+05  \n",
       "50%    1.041942e+06  \n",
       "75%    1.465209e+06  \n",
       "max    7.631748e+06  "
      ]
     },
     "execution_count": 727,
     "metadata": {},
     "output_type": "execute_result"
    }
   ],
   "source": [
    "vusa_history.describe()"
   ]
  },
  {
   "cell_type": "code",
   "execution_count": 728,
   "metadata": {},
   "outputs": [
    {
     "name": "stdout",
     "output_type": "stream",
     "text": [
      "<class 'pandas.core.frame.DataFrame'>\n",
      "RangeIndex: 580 entries, 0 to 579\n",
      "Data columns (total 7 columns):\n",
      " #   Column     Non-Null Count  Dtype  \n",
      "---  ------     --------------  -----  \n",
      " 0   Date       580 non-null    object \n",
      " 1   Open       580 non-null    float64\n",
      " 2   High       580 non-null    float64\n",
      " 3   Low        580 non-null    float64\n",
      " 4   Close      580 non-null    float64\n",
      " 5   Adj Close  580 non-null    float64\n",
      " 6   Volume     580 non-null    int64  \n",
      "dtypes: float64(5), int64(1), object(1)\n",
      "memory usage: 31.8+ KB\n"
     ]
    }
   ],
   "source": [
    "vusa_history.info()"
   ]
  },
  {
   "cell_type": "code",
   "execution_count": 729,
   "metadata": {},
   "outputs": [
    {
     "data": {
      "text/html": [
       "<div>\n",
       "<style scoped>\n",
       "    .dataframe tbody tr th:only-of-type {\n",
       "        vertical-align: middle;\n",
       "    }\n",
       "\n",
       "    .dataframe tbody tr th {\n",
       "        vertical-align: top;\n",
       "    }\n",
       "\n",
       "    .dataframe thead th {\n",
       "        text-align: right;\n",
       "    }\n",
       "</style>\n",
       "<table border=\"1\" class=\"dataframe\">\n",
       "  <thead>\n",
       "    <tr style=\"text-align: right;\">\n",
       "      <th></th>\n",
       "      <th>Date</th>\n",
       "      <th>Open</th>\n",
       "      <th>High</th>\n",
       "      <th>Low</th>\n",
       "      <th>Close</th>\n",
       "      <th>Adj Close</th>\n",
       "      <th>Volume</th>\n",
       "    </tr>\n",
       "  </thead>\n",
       "  <tbody>\n",
       "    <tr>\n",
       "      <th>0</th>\n",
       "      <td>2012-05-21</td>\n",
       "      <td>15.772000</td>\n",
       "      <td>16.110001</td>\n",
       "      <td>15.770000</td>\n",
       "      <td>16.059999</td>\n",
       "      <td>16.059999</td>\n",
       "      <td>5849</td>\n",
       "    </tr>\n",
       "    <tr>\n",
       "      <th>1</th>\n",
       "      <td>2012-05-28</td>\n",
       "      <td>16.059999</td>\n",
       "      <td>16.209999</td>\n",
       "      <td>15.980000</td>\n",
       "      <td>15.920000</td>\n",
       "      <td>15.920000</td>\n",
       "      <td>11314</td>\n",
       "    </tr>\n",
       "    <tr>\n",
       "      <th>2</th>\n",
       "      <td>2012-06-04</td>\n",
       "      <td>15.920000</td>\n",
       "      <td>16.200001</td>\n",
       "      <td>15.920000</td>\n",
       "      <td>16.219999</td>\n",
       "      <td>16.219999</td>\n",
       "      <td>15083</td>\n",
       "    </tr>\n",
       "    <tr>\n",
       "      <th>3</th>\n",
       "      <td>2012-06-11</td>\n",
       "      <td>16.209999</td>\n",
       "      <td>16.389999</td>\n",
       "      <td>16.059999</td>\n",
       "      <td>16.240000</td>\n",
       "      <td>16.240000</td>\n",
       "      <td>2726</td>\n",
       "    </tr>\n",
       "    <tr>\n",
       "      <th>4</th>\n",
       "      <td>2012-06-18</td>\n",
       "      <td>16.280001</td>\n",
       "      <td>16.440001</td>\n",
       "      <td>16.190001</td>\n",
       "      <td>16.250000</td>\n",
       "      <td>16.250000</td>\n",
       "      <td>38822</td>\n",
       "    </tr>\n",
       "  </tbody>\n",
       "</table>\n",
       "</div>"
      ],
      "text/plain": [
       "         Date       Open       High        Low      Close  Adj Close  Volume\n",
       "0  2012-05-21  15.772000  16.110001  15.770000  16.059999  16.059999    5849\n",
       "1  2012-05-28  16.059999  16.209999  15.980000  15.920000  15.920000   11314\n",
       "2  2012-06-04  15.920000  16.200001  15.920000  16.219999  16.219999   15083\n",
       "3  2012-06-11  16.209999  16.389999  16.059999  16.240000  16.240000    2726\n",
       "4  2012-06-18  16.280001  16.440001  16.190001  16.250000  16.250000   38822"
      ]
     },
     "execution_count": 729,
     "metadata": {},
     "output_type": "execute_result"
    }
   ],
   "source": [
    "vusa_history.head()"
   ]
  },
  {
   "cell_type": "code",
   "execution_count": 730,
   "metadata": {},
   "outputs": [],
   "source": [
    "vusa_history['Date'] = pd.to_datetime(vusa_history['Date'])"
   ]
  },
  {
   "cell_type": "code",
   "execution_count": null,
   "metadata": {},
   "outputs": [],
   "source": []
  },
  {
   "cell_type": "code",
   "execution_count": 731,
   "metadata": {},
   "outputs": [
    {
     "data": {
      "image/png": "[encoded data removed]",
      "text/plain": [
       "<Figure size 640x480 with 1 Axes>"
      ]
     },
     "metadata": {},
     "output_type": "display_data"
    }
   ],
   "source": [
    "vusa_dates = vusa_history['Date']\n",
    "vusa_closing_values = vusa_history['Close']\n",
    "\n",
    "yearly_dates = vusa_dates.dt.year[::52]\n",
    "yearly_close = vusa_closing_values[::52]\n",
    "\n",
    "monthly_dates = vusa_dates[::4]\n",
    "monthly_close = vusa_closing_values[::4]\n",
    "\n",
    "X = monthly_dates\n",
    "Y = monthly_close\n",
    "\n",
    "plt.plot(X, Y)\n",
    "plt.ylabel(\"Closing Value (£)\")\n",
    "plt.ylim(top=Y.max() * 1.2, bottom=Y.min() * 0.8)\n",
    "plt.xlim(X.min(), X.max())\n",
    "plt.grid()\n",
    "plt.tight_layout()\n",
    "plt.show()"
   ]
  },
  {
   "cell_type": "code",
   "execution_count": null,
   "metadata": {},
   "outputs": [],
   "source": []
  }
 ],
 "metadata": {
  "kernelspec": {
   "display_name": "Python 3.11.0 64-bit",
   "language": "python",
   "name": "python3"
  },
  "language_info": {
   "codemirror_mode": {
    "name": "ipython",
    "version": 3
   },
   "file_extension": ".py",
   "mimetype": "text/x-python",
   "name": "python",
   "nbconvert_exporter": "python",
   "pygments_lexer": "ipython3",
   "version": "3.11.0"
  },
  "orig_nbformat": 4,
  "vscode": {
   "interpreter": {
    "hash": "aee8b7b246df8f9039afb4144a1f6fd8d2ca17a180786b69acc140d282b71a49"
   }
  }
 },
 "nbformat": 4,
 "nbformat_minor": 2
}
